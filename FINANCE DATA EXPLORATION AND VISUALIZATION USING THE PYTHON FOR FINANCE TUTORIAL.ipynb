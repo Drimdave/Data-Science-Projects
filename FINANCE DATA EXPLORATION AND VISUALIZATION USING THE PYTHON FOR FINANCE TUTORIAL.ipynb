{
 "cells": [
  {
   "cell_type": "code",
   "execution_count": 1,
   "metadata": {},
   "outputs": [],
   "source": [
    "import pandas as pd\n",
    "import numpy as np\n",
    "import matplotlib.pyplot as plt\n",
    "import datetime\n",
    "import time"
   ]
  },
  {
   "cell_type": "code",
   "execution_count": 3,
   "metadata": {},
   "outputs": [],
   "source": [
    "HIST_DR = pd.read_csv(r\"C:\\Users\\seyi\\Downloads\\datasets_1340_2416_SPY Index.csv\")"
   ]
  },
  {
   "cell_type": "code",
   "execution_count": 5,
   "metadata": {},
   "outputs": [
    {
     "data": {
      "text/html": [
       "<div>\n",
       "<style scoped>\n",
       "    .dataframe tbody tr th:only-of-type {\n",
       "        vertical-align: middle;\n",
       "    }\n",
       "\n",
       "    .dataframe tbody tr th {\n",
       "        vertical-align: top;\n",
       "    }\n",
       "\n",
       "    .dataframe thead th {\n",
       "        text-align: right;\n",
       "    }\n",
       "</style>\n",
       "<table border=\"1\" class=\"dataframe\">\n",
       "  <thead>\n",
       "    <tr style=\"text-align: right;\">\n",
       "      <th></th>\n",
       "      <th>Date</th>\n",
       "      <th>Open</th>\n",
       "      <th>High</th>\n",
       "      <th>Low</th>\n",
       "      <th>Close</th>\n",
       "      <th>Adj Close</th>\n",
       "      <th>Volume</th>\n",
       "    </tr>\n",
       "  </thead>\n",
       "  <tbody>\n",
       "    <tr>\n",
       "      <th>0</th>\n",
       "      <td>1/29/1993</td>\n",
       "      <td>43.9687</td>\n",
       "      <td>43.9687</td>\n",
       "      <td>43.7500</td>\n",
       "      <td>43.9375</td>\n",
       "      <td>43.9375</td>\n",
       "      <td>1003200</td>\n",
       "    </tr>\n",
       "    <tr>\n",
       "      <th>1</th>\n",
       "      <td>2/1/1993</td>\n",
       "      <td>43.9687</td>\n",
       "      <td>44.2500</td>\n",
       "      <td>43.9687</td>\n",
       "      <td>44.2500</td>\n",
       "      <td>44.2500</td>\n",
       "      <td>480500</td>\n",
       "    </tr>\n",
       "    <tr>\n",
       "      <th>2</th>\n",
       "      <td>2/2/1993</td>\n",
       "      <td>44.2187</td>\n",
       "      <td>44.3750</td>\n",
       "      <td>44.1250</td>\n",
       "      <td>44.3437</td>\n",
       "      <td>44.3437</td>\n",
       "      <td>201300</td>\n",
       "    </tr>\n",
       "    <tr>\n",
       "      <th>3</th>\n",
       "      <td>2/3/1993</td>\n",
       "      <td>44.4062</td>\n",
       "      <td>44.8437</td>\n",
       "      <td>44.3750</td>\n",
       "      <td>44.8125</td>\n",
       "      <td>44.8125</td>\n",
       "      <td>529400</td>\n",
       "    </tr>\n",
       "    <tr>\n",
       "      <th>4</th>\n",
       "      <td>2/4/1993</td>\n",
       "      <td>44.9687</td>\n",
       "      <td>45.0937</td>\n",
       "      <td>44.4687</td>\n",
       "      <td>45.0000</td>\n",
       "      <td>45.0000</td>\n",
       "      <td>531500</td>\n",
       "    </tr>\n",
       "  </tbody>\n",
       "</table>\n",
       "</div>"
      ],
      "text/plain": [
       "        Date     Open     High      Low    Close  Adj Close   Volume\n",
       "0  1/29/1993  43.9687  43.9687  43.7500  43.9375    43.9375  1003200\n",
       "1   2/1/1993  43.9687  44.2500  43.9687  44.2500    44.2500   480500\n",
       "2   2/2/1993  44.2187  44.3750  44.1250  44.3437    44.3437   201300\n",
       "3   2/3/1993  44.4062  44.8437  44.3750  44.8125    44.8125   529400\n",
       "4   2/4/1993  44.9687  45.0937  44.4687  45.0000    45.0000   531500"
      ]
     },
     "execution_count": 5,
     "metadata": {},
     "output_type": "execute_result"
    }
   ],
   "source": [
    "HIST_DR.head()"
   ]
  },
  {
   "cell_type": "code",
   "execution_count": 6,
   "metadata": {},
   "outputs": [
    {
     "name": "stdout",
     "output_type": "stream",
     "text": [
      "RangeIndex(start=0, stop=6126, step=1)\n"
     ]
    }
   ],
   "source": [
    "print(HIST_DR.index)"
   ]
  },
  {
   "cell_type": "code",
   "execution_count": 7,
   "metadata": {},
   "outputs": [
    {
     "name": "stdout",
     "output_type": "stream",
     "text": [
      "Index(['Date', 'Open', 'High', 'Low', 'Close', 'Adj Close', 'Volume'], dtype='object')\n"
     ]
    }
   ],
   "source": [
    "print(HIST_DR.columns)"
   ]
  },
  {
   "cell_type": "code",
   "execution_count": 8,
   "metadata": {},
   "outputs": [],
   "source": [
    "ts = HIST_DR['Close'][-10:]"
   ]
  },
  {
   "cell_type": "code",
   "execution_count": 9,
   "metadata": {},
   "outputs": [
    {
     "data": {
      "text/plain": [
       "pandas.core.series.Series"
      ]
     },
     "execution_count": 9,
     "metadata": {},
     "output_type": "execute_result"
    }
   ],
   "source": [
    "type(ts)"
   ]
  },
  {
   "cell_type": "code",
   "execution_count": 11,
   "metadata": {},
   "outputs": [],
   "source": [
    "HIST_DR['Date'] = pd.to_datetime(HIST_DR['Date'])"
   ]
  },
  {
   "cell_type": "code",
   "execution_count": 13,
   "metadata": {},
   "outputs": [
    {
     "data": {
      "text/html": [
       "<div>\n",
       "<style scoped>\n",
       "    .dataframe tbody tr th:only-of-type {\n",
       "        vertical-align: middle;\n",
       "    }\n",
       "\n",
       "    .dataframe tbody tr th {\n",
       "        vertical-align: top;\n",
       "    }\n",
       "\n",
       "    .dataframe thead th {\n",
       "        text-align: right;\n",
       "    }\n",
       "</style>\n",
       "<table border=\"1\" class=\"dataframe\">\n",
       "  <thead>\n",
       "    <tr style=\"text-align: right;\">\n",
       "      <th></th>\n",
       "      <th>Date</th>\n",
       "      <th>Open</th>\n",
       "      <th>High</th>\n",
       "      <th>Low</th>\n",
       "      <th>Close</th>\n",
       "      <th>Adj Close</th>\n",
       "      <th>Volume</th>\n",
       "    </tr>\n",
       "  </thead>\n",
       "  <tbody>\n",
       "    <tr>\n",
       "      <th>0</th>\n",
       "      <td>1993-01-29</td>\n",
       "      <td>43.9687</td>\n",
       "      <td>43.9687</td>\n",
       "      <td>43.7500</td>\n",
       "      <td>43.9375</td>\n",
       "      <td>43.9375</td>\n",
       "      <td>1003200</td>\n",
       "    </tr>\n",
       "    <tr>\n",
       "      <th>1</th>\n",
       "      <td>1993-02-01</td>\n",
       "      <td>43.9687</td>\n",
       "      <td>44.2500</td>\n",
       "      <td>43.9687</td>\n",
       "      <td>44.2500</td>\n",
       "      <td>44.2500</td>\n",
       "      <td>480500</td>\n",
       "    </tr>\n",
       "    <tr>\n",
       "      <th>2</th>\n",
       "      <td>1993-02-02</td>\n",
       "      <td>44.2187</td>\n",
       "      <td>44.3750</td>\n",
       "      <td>44.1250</td>\n",
       "      <td>44.3437</td>\n",
       "      <td>44.3437</td>\n",
       "      <td>201300</td>\n",
       "    </tr>\n",
       "    <tr>\n",
       "      <th>3</th>\n",
       "      <td>1993-02-03</td>\n",
       "      <td>44.4062</td>\n",
       "      <td>44.8437</td>\n",
       "      <td>44.3750</td>\n",
       "      <td>44.8125</td>\n",
       "      <td>44.8125</td>\n",
       "      <td>529400</td>\n",
       "    </tr>\n",
       "    <tr>\n",
       "      <th>4</th>\n",
       "      <td>1993-02-04</td>\n",
       "      <td>44.9687</td>\n",
       "      <td>45.0937</td>\n",
       "      <td>44.4687</td>\n",
       "      <td>45.0000</td>\n",
       "      <td>45.0000</td>\n",
       "      <td>531500</td>\n",
       "    </tr>\n",
       "  </tbody>\n",
       "</table>\n",
       "</div>"
      ],
      "text/plain": [
       "        Date     Open     High      Low    Close  Adj Close   Volume\n",
       "0 1993-01-29  43.9687  43.9687  43.7500  43.9375    43.9375  1003200\n",
       "1 1993-02-01  43.9687  44.2500  43.9687  44.2500    44.2500   480500\n",
       "2 1993-02-02  44.2187  44.3750  44.1250  44.3437    44.3437   201300\n",
       "3 1993-02-03  44.4062  44.8437  44.3750  44.8125    44.8125   529400\n",
       "4 1993-02-04  44.9687  45.0937  44.4687  45.0000    45.0000   531500"
      ]
     },
     "execution_count": 13,
     "metadata": {},
     "output_type": "execute_result"
    }
   ],
   "source": [
    "HIST_DR.head()"
   ]
  },
  {
   "cell_type": "code",
   "execution_count": 14,
   "metadata": {},
   "outputs": [
    {
     "data": {
      "text/plain": [
       "Date         datetime64[ns]\n",
       "Open                float64\n",
       "High                float64\n",
       "Low                 float64\n",
       "Close               float64\n",
       "Adj Close           float64\n",
       "Volume                int64\n",
       "dtype: object"
      ]
     },
     "execution_count": 14,
     "metadata": {},
     "output_type": "execute_result"
    }
   ],
   "source": [
    "HIST_DR.dtypes"
   ]
  },
  {
   "cell_type": "code",
   "execution_count": 20,
   "metadata": {},
   "outputs": [
    {
     "data": {
      "text/html": [
       "<div>\n",
       "<style scoped>\n",
       "    .dataframe tbody tr th:only-of-type {\n",
       "        vertical-align: middle;\n",
       "    }\n",
       "\n",
       "    .dataframe tbody tr th {\n",
       "        vertical-align: top;\n",
       "    }\n",
       "\n",
       "    .dataframe thead th {\n",
       "        text-align: right;\n",
       "    }\n",
       "</style>\n",
       "<table border=\"1\" class=\"dataframe\">\n",
       "  <thead>\n",
       "    <tr style=\"text-align: right;\">\n",
       "      <th></th>\n",
       "      <th>Open</th>\n",
       "      <th>High</th>\n",
       "      <th>Low</th>\n",
       "      <th>Close</th>\n",
       "      <th>Adj Close</th>\n",
       "      <th>Volume</th>\n",
       "    </tr>\n",
       "  </thead>\n",
       "  <tbody>\n",
       "    <tr>\n",
       "      <th>count</th>\n",
       "      <td>90.000000</td>\n",
       "      <td>90.000000</td>\n",
       "      <td>90.000000</td>\n",
       "      <td>90.000000</td>\n",
       "      <td>90.000000</td>\n",
       "      <td>9.000000e+01</td>\n",
       "    </tr>\n",
       "    <tr>\n",
       "      <th>mean</th>\n",
       "      <td>235.060555</td>\n",
       "      <td>235.724334</td>\n",
       "      <td>234.331333</td>\n",
       "      <td>235.134889</td>\n",
       "      <td>235.134889</td>\n",
       "      <td>7.704989e+07</td>\n",
       "    </tr>\n",
       "    <tr>\n",
       "      <th>std</th>\n",
       "      <td>4.059227</td>\n",
       "      <td>3.995295</td>\n",
       "      <td>4.045974</td>\n",
       "      <td>3.988069</td>\n",
       "      <td>3.988069</td>\n",
       "      <td>2.279776e+07</td>\n",
       "    </tr>\n",
       "    <tr>\n",
       "      <th>min</th>\n",
       "      <td>226.399994</td>\n",
       "      <td>226.800003</td>\n",
       "      <td>225.270004</td>\n",
       "      <td>225.910004</td>\n",
       "      <td>225.910004</td>\n",
       "      <td>4.692770e+07</td>\n",
       "    </tr>\n",
       "    <tr>\n",
       "      <th>25%</th>\n",
       "      <td>233.315002</td>\n",
       "      <td>234.510005</td>\n",
       "      <td>232.900005</td>\n",
       "      <td>233.707497</td>\n",
       "      <td>233.707497</td>\n",
       "      <td>6.023068e+07</td>\n",
       "    </tr>\n",
       "    <tr>\n",
       "      <th>50%</th>\n",
       "      <td>235.764999</td>\n",
       "      <td>236.614998</td>\n",
       "      <td>235.000000</td>\n",
       "      <td>235.780006</td>\n",
       "      <td>235.780006</td>\n",
       "      <td>7.343540e+07</td>\n",
       "    </tr>\n",
       "    <tr>\n",
       "      <th>75%</th>\n",
       "      <td>238.334999</td>\n",
       "      <td>238.944996</td>\n",
       "      <td>237.722496</td>\n",
       "      <td>238.377495</td>\n",
       "      <td>238.377495</td>\n",
       "      <td>8.728732e+07</td>\n",
       "    </tr>\n",
       "    <tr>\n",
       "      <th>max</th>\n",
       "      <td>241.199997</td>\n",
       "      <td>242.080002</td>\n",
       "      <td>240.960007</td>\n",
       "      <td>241.759995</td>\n",
       "      <td>241.759995</td>\n",
       "      <td>1.721741e+08</td>\n",
       "    </tr>\n",
       "  </tbody>\n",
       "</table>\n",
       "</div>"
      ],
      "text/plain": [
       "             Open        High         Low       Close   Adj Close  \\\n",
       "count   90.000000   90.000000   90.000000   90.000000   90.000000   \n",
       "mean   235.060555  235.724334  234.331333  235.134889  235.134889   \n",
       "std      4.059227    3.995295    4.045974    3.988069    3.988069   \n",
       "min    226.399994  226.800003  225.270004  225.910004  225.910004   \n",
       "25%    233.315002  234.510005  232.900005  233.707497  233.707497   \n",
       "50%    235.764999  236.614998  235.000000  235.780006  235.780006   \n",
       "75%    238.334999  238.944996  237.722496  238.377495  238.377495   \n",
       "max    241.199997  242.080002  240.960007  241.759995  241.759995   \n",
       "\n",
       "             Volume  \n",
       "count  9.000000e+01  \n",
       "mean   7.704989e+07  \n",
       "std    2.279776e+07  \n",
       "min    4.692770e+07  \n",
       "25%    6.023068e+07  \n",
       "50%    7.343540e+07  \n",
       "75%    8.728732e+07  \n",
       "max    1.721741e+08  "
      ]
     },
     "execution_count": 20,
     "metadata": {},
     "output_type": "execute_result"
    }
   ],
   "source": [
    "HIST_DR.iloc[-90:].describe().astype(float)"
   ]
  },
  {
   "cell_type": "code",
   "execution_count": 23,
   "metadata": {},
   "outputs": [],
   "source": [
    "sample = HIST_DR.sample(20)"
   ]
  },
  {
   "cell_type": "code",
   "execution_count": 24,
   "metadata": {},
   "outputs": [
    {
     "name": "stdout",
     "output_type": "stream",
     "text": [
      "           Date        Open        High         Low       Close   Adj Close  \\\n",
      "120  1993-07-22   44.750000   44.812500   44.500000   44.500000   44.500000   \n",
      "2403 2002-08-13   90.150002   91.660004   88.650002   88.970001   88.970001   \n",
      "4899 2012-07-11  134.210007  134.600006  133.380005  134.160004  134.160004   \n",
      "1288 1998-03-06  104.562500  105.937500  104.437500  105.937500  105.937500   \n",
      "3260 2006-01-06  128.020004  128.580002  127.360001  128.440002  128.440002   \n",
      "319  1994-05-05   45.296799   45.375000   45.187500   45.187500   45.187500   \n",
      "2686 2003-09-26  100.440002  100.660004   99.849998   99.949997   99.949997   \n",
      "1689 1999-10-07  132.859299  133.000000  131.500000  131.875000  131.875000   \n",
      "2846 2004-05-17  108.889999  109.500000  108.410004  109.099998  109.099998   \n",
      "2001 2001-01-02  132.000000  132.156204  127.562500  128.812500  128.812500   \n",
      "3119 2005-06-16  121.059998  121.639999  120.919998  121.400002  121.400002   \n",
      "1158 1997-08-28   91.187500   91.937500   90.000000   90.015602   90.015602   \n",
      "3767 2008-01-14  141.160004  141.860001  140.399994  141.279999  141.279999   \n",
      "1510 1999-01-22  122.125000  123.843697  121.781197  122.562500  122.562500   \n",
      "2346 2002-05-22  108.220001  109.120003  108.000000  108.940002  108.940002   \n",
      "2301 2002-03-19  117.300003  117.739998  116.820000  117.449997  117.449997   \n",
      "655  1995-09-01   56.390598   56.750000   56.343700   56.656200   56.656200   \n",
      "2216 2001-11-13  113.440002  114.550003  113.180000  114.550003  114.550003   \n",
      "4782 2012-01-24  130.800003  131.500000  130.600006  131.460007  131.460007   \n",
      "5634 2015-06-15  208.639999  209.449997  207.789993  209.110001  209.110001   \n",
      "\n",
      "         Volume  \n",
      "120      632400  \n",
      "2403   49690500  \n",
      "4899  141733400  \n",
      "1288    6896300  \n",
      "3260   62885900  \n",
      "319      659800  \n",
      "2686   42914700  \n",
      "1689    6535600  \n",
      "2846   55020400  \n",
      "2001    8737500  \n",
      "3119   46564500  \n",
      "1158    4287900  \n",
      "3767  170365500  \n",
      "1510    7522300  \n",
      "2346   15844200  \n",
      "2301   17912000  \n",
      "655      629900  \n",
      "2216   15296200  \n",
      "4782  103083300  \n",
      "5634  124384200  \n"
     ]
    }
   ],
   "source": [
    "print(sample)"
   ]
  },
  {
   "cell_type": "code",
   "execution_count": 25,
   "metadata": {},
   "outputs": [
    {
     "data": {
      "image/png": "[encoded data removed]",
      "text/plain": [
       "<Figure size 432x288 with 1 Axes>"
      ]
     },
     "metadata": {
      "needs_background": "light"
     },
     "output_type": "display_data"
    }
   ],
   "source": [
    "HIST_DR['Close'].plot(grid=True)\n",
    "plt.show()"
   ]
  },
  {
   "cell_type": "code",
   "execution_count": 28,
   "metadata": {},
   "outputs": [
    {
     "name": "stdout",
     "output_type": "stream",
     "text": [
      "      Adj Close\n",
      "0      0.000000\n",
      "1      0.007112\n",
      "2      0.002118\n",
      "3      0.010572\n",
      "4      0.004184\n",
      "...         ...\n",
      "6121   0.006504\n",
      "6122   0.005077\n",
      "6123   0.002213\n",
      "6124   0.002333\n",
      "6125   0.004779\n",
      "\n",
      "[6126 rows x 1 columns]\n",
      "      Adj Close\n",
      "0           NaN\n",
      "1      0.007087\n",
      "2      0.002115\n",
      "3      0.010516\n",
      "4      0.004175\n",
      "...         ...\n",
      "6121   0.006483\n",
      "6122   0.005065\n",
      "6123   0.002210\n",
      "6124   0.002330\n",
      "6125   0.004768\n",
      "\n",
      "[6126 rows x 1 columns]\n"
     ]
    }
   ],
   "source": [
    "# Assign `Adj Close` to `daily_close`\n",
    "daily_close = HIST_DR[['Adj Close']]\n",
    "\n",
    "# Daily returns\n",
    "daily_pct_c = daily_close.pct_change()\n",
    "\n",
    "# Replace NA values with 0\n",
    "daily_pct_c.fillna(0, inplace=True)\n",
    "\n",
    "# Inspect daily returns\n",
    "print(daily_pct_c)\n",
    "\n",
    "# Daily log returns\n",
    "daily_log_returns = np.log(daily_close.pct_change()+1)\n",
    "\n",
    "# Print daily log returns\n",
    "print(daily_log_returns)"
   ]
  },
  {
   "cell_type": "code",
   "execution_count": 30,
   "metadata": {},
   "outputs": [
    {
     "name": "stdout",
     "output_type": "stream",
     "text": [
      "      Adj Close\n",
      "0           NaN\n",
      "1      0.007112\n",
      "2      0.002118\n",
      "3      0.010572\n",
      "4      0.004184\n",
      "...         ...\n",
      "6121   0.006504\n",
      "6122   0.005077\n",
      "6123   0.002213\n",
      "6124   0.002333\n",
      "6125   0.004779\n",
      "\n",
      "[6126 rows x 1 columns]\n"
     ]
    }
   ],
   "source": [
    "# Daily returns\n",
    "daily_pct_c = daily_close / daily_close.shift(1) - 1\n",
    "\n",
    "# Print `daily_pct_c`\n",
    "print(daily_pct_c)"
   ]
  },
  {
   "cell_type": "code",
   "execution_count": 31,
   "metadata": {},
   "outputs": [
    {
     "data": {
      "image/png": "[encoded data removed]",
      "text/plain": [
       "<Figure size 432x288 with 1 Axes>"
      ]
     },
     "metadata": {
      "needs_background": "light"
     },
     "output_type": "display_data"
    },
    {
     "name": "stdout",
     "output_type": "stream",
     "text": [
      "         Adj Close\n",
      "count  6125.000000\n",
      "mean      0.000347\n",
      "std       0.011710\n",
      "min      -0.098448\n",
      "25%      -0.004714\n",
      "50%       0.000594\n",
      "75%       0.005791\n",
      "max       0.145198\n"
     ]
    }
   ],
   "source": [
    "# Import matplotlib\n",
    "import matplotlib.pyplot as plt\n",
    "\n",
    "# Plot the distribution of `daily_pct_c`\n",
    "daily_pct_c.hist(bins=50)\n",
    "\n",
    "# Show the plot\n",
    "plt.show()\n",
    "\n",
    "# Pull up summary statistics\n",
    "print(daily_pct_c.describe())"
   ]
  },
  {
   "cell_type": "code",
   "execution_count": 32,
   "metadata": {},
   "outputs": [
    {
     "name": "stdout",
     "output_type": "stream",
     "text": [
      "      Adj Close\n",
      "0           NaN\n",
      "1      1.007112\n",
      "2      1.009245\n",
      "3      1.019915\n",
      "4      1.024182\n",
      "...         ...\n",
      "6121   5.423841\n",
      "6122   5.451380\n",
      "6123   5.463442\n",
      "6124   5.476188\n",
      "6125   5.502361\n",
      "\n",
      "[6126 rows x 1 columns]\n"
     ]
    }
   ],
   "source": [
    "# Calculate the cumulative daily returns\n",
    "cum_daily_return = (1 + daily_pct_c).cumprod()\n",
    "\n",
    "# Print `cum_daily_return`\n",
    "print(cum_daily_return)"
   ]
  },
  {
   "cell_type": "code",
   "execution_count": null,
   "metadata": {},
   "outputs": [],
   "source": []
  }
 ],
 "metadata": {
  "kernelspec": {
   "display_name": "Python 3",
   "language": "python",
   "name": "python3"
  },
  "language_info": {
   "codemirror_mode": {
    "name": "ipython",
    "version": 3
   },
   "file_extension": ".py",
   "mimetype": "text/x-python",
   "name": "python",
   "nbconvert_exporter": "python",
   "pygments_lexer": "ipython3",
   "version": "3.7.6"
  }
 },
 "nbformat": 4,
 "nbformat_minor": 4
}
